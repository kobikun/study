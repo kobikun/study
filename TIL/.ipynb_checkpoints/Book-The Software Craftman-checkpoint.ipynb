{
 "cells": [
  {
   "cell_type": "code",
   "execution_count": null,
   "metadata": {
    "collapsed": true
   },
   "outputs": [],
   "source": []
  },
  {
   "cell_type": "code",
   "execution_count": null,
   "metadata": {
    "collapsed": true
   },
   "outputs": [],
   "source": []
  },
  {
   "cell_type": "markdown",
   "metadata": {},
   "source": [
    "# Chap1\n"
   ]
  },
  {
   "cell_type": "markdown",
   "metadata": {},
   "source": [
    "# Chap 2 - 애자일\n",
    "\n",
    "\n",
    "* 도요타\n",
    " * 절차 개선 뿐만 아니라 자동차의 품질에 이미 충분한 역량과 그를 뒷받침하는 노력이 있었음\n",
    "* 피드백 시스템\n",
    " * 절차의 개선으로 제품이 나아지려면 모든 단계에서 피드백이 있다는 전제를 해야함\n",
    " * 이가 동작하려면 자기가 하는 일에 충분히 주위를 기울이고 더 나은 방법이 있다고 느낄 때 자기 목소리를 내는 프로페셜이 되어야 함\n",
    "* 개발자는 코드 품질을 높이려고 노력해야함\n",
    "* '애자일 전환이 얼마나 개발자의 역량 향상에 얼마나 도움이 되는가?'\n",
    "\n",
    "## 거부감\n",
    "* 새로운 기술에 대한 거부감 있음\n",
    "* 자동화한 테스트가 되어야 지속적인 코드 통합은 의미가 있게됨\n"
   ]
  },
  {
   "cell_type": "code",
   "execution_count": null,
   "metadata": {
    "collapsed": true
   },
   "outputs": [],
   "source": []
  },
  {
   "cell_type": "code",
   "execution_count": null,
   "metadata": {
    "collapsed": true
   },
   "outputs": [],
   "source": []
  }
 ],
 "metadata": {
  "kernelspec": {
   "display_name": "Python 2",
   "language": "python",
   "name": "python2"
  },
  "language_info": {
   "codemirror_mode": {
    "name": "ipython",
    "version": 2
   },
   "file_extension": ".py",
   "mimetype": "text/x-python",
   "name": "python",
   "nbconvert_exporter": "python",
   "pygments_lexer": "ipython2",
   "version": "2.7.10"
  }
 },
 "nbformat": 4,
 "nbformat_minor": 0
}
