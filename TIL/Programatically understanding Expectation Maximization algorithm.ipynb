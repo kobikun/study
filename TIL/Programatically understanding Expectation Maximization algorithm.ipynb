{
 "cells": [
  {
   "cell_type": "markdown",
   "metadata": {},
   "source": [
    "> this article's original is http://nipunbatra.github.io/2014/04/em/"
   ]
  },
  {
   "cell_type": "markdown",
   "metadata": {},
   "source": [
    "# Maximum Likelihood\n",
    "![image](http://i.stack.imgur.com/mj0nb.gif)"
   ]
  },
  {
   "cell_type": "markdown",
   "metadata": {},
   "source": [
    "* n : coin toss\n",
    "* p : head's probability : 1-p "
   ]
  },
  {
   "cell_type": "code",
   "execution_count": 6,
   "metadata": {
    "collapsed": true
   },
   "outputs": [],
   "source": [
    "import numpy as np\n",
    "from scipy import stats\n",
    "import matplotlib.pyplot as pl\n",
    "import seaborn as sns\n",
    "import ipywidgets\n",
    "%matplotlib inline"
   ]
  },
  {
   "cell_type": "code",
   "execution_count": 7,
   "metadata": {
    "collapsed": false
   },
   "outputs": [],
   "source": [
    "a = range(11)\n",
    "def plot_binomial(p = 0.5):\n",
    "    fig, ax = plt.subplots(figsize=(4, 3))\n",
    "    y = [0] * 11\n",
    "    for i in a:\n",
    "        y[i-1] = stats.binom.pmf(i, 10, p)\n",
    "    ax.bar(a, y, label=\"$p = %.1f$\" % p)\n",
    "    ax.set_ylabel('PMF of $k$ heads')\n",
    "    ax.set_xlabel('$k$')\n",
    "    ax.set_ylim((0, 0.5))\n",
    "    ax.set_xlim((0, 10))\n",
    "    ax.legend()\n",
    "    return fig"
   ]
  },
  {
   "cell_type": "code",
   "execution_count": null,
   "metadata": {
    "collapsed": true
   },
   "outputs": [],
   "source": [
    "ipywidgets.IntSlider(plot_binomial, p = ipywidgets.)"
   ]
  }
 ],
 "metadata": {
  "kernelspec": {
   "display_name": "Python 2",
   "language": "python",
   "name": "python2"
  },
  "language_info": {
   "codemirror_mode": {
    "name": "ipython",
    "version": 2
   },
   "file_extension": ".py",
   "mimetype": "text/x-python",
   "name": "python",
   "nbconvert_exporter": "python",
   "pygments_lexer": "ipython2",
   "version": "2.7.10"
  }
 },
 "nbformat": 4,
 "nbformat_minor": 0
}
