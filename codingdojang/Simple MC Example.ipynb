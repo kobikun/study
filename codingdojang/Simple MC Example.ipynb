{
 "cells": [
  {
   "cell_type": "code",
   "execution_count": 1,
   "metadata": {
    "collapsed": true
   },
   "outputs": [],
   "source": [
    "# http://codingdojang.com/scode/507"
   ]
  },
  {
   "cell_type": "markdown",
   "metadata": {},
   "source": [
    "## MC(Monte Carlo) 방법\n",
    "\n",
    "* 난수를 이용하여 함수의 값을 확률적으로 계산하는 알고리즘\n",
    "* 근사적으로 계산할 때 사용함\n",
    "* 모나코의 유명한 도박의 도시 '몬테카를로'의 이름을 본 딴 만듬\n"
   ]
  },
  {
   "cell_type": "markdown",
   "metadata": {},
   "source": [
    "## 원주율 값을 측정하기\n",
    "* $\\pi$ 추정\n",
    "* 1x1정사각형에서\n",
    "* $\\pi/4$넓이를 차지하는 사분원을 이용\n",
    "* 0<=x<=1, 0<=y<=1에서 x,y를 가지고고\n",
    "* x^2+y^2<=1인 확률은 전체 넓이 $\\pi/4$와 같게 된다.\n"
   ]
  },
  {
   "cell_type": "code",
   "execution_count": 2,
   "metadata": {
    "collapsed": true
   },
   "outputs": [],
   "source": [
    "import random"
   ]
  },
  {
   "cell_type": "code",
   "execution_count": 13,
   "metadata": {
    "collapsed": true
   },
   "outputs": [],
   "source": [
    "def get_pi(n=1000):\n",
    "    count = 0\n",
    "    for i in range(n):\n",
    "        x = random.uniform(0,1.0)\n",
    "        y = random.uniform(0,1.0)\n",
    "        if (x**2+y**2)<=1.0:\n",
    "            count = count+1.0\n",
    "    return 4.0*(count)/n"
   ]
  },
  {
   "cell_type": "code",
   "execution_count": 14,
   "metadata": {
    "collapsed": false
   },
   "outputs": [
    {
     "name": "stdout",
     "output_type": "stream",
     "text": [
      "3.04\n"
     ]
    }
   ],
   "source": [
    "print get_pi(100)"
   ]
  },
  {
   "cell_type": "code",
   "execution_count": 15,
   "metadata": {
    "collapsed": false
   },
   "outputs": [
    {
     "name": "stdout",
     "output_type": "stream",
     "text": [
      "1000 3.096\n",
      "6000 3.14\n",
      "11000 3.14\n",
      "16000 3.1565\n",
      "21000 3.14876190476\n",
      "26000 3.13169230769\n",
      "31000 3.12025806452\n",
      "36000 3.14055555556\n",
      "41000 3.14887804878\n",
      "46000 3.13217391304\n",
      "51000 3.14988235294\n",
      "56000 3.14892857143\n",
      "61000 3.1428852459\n",
      "66000 3.14527272727\n",
      "71000 3.13791549296\n",
      "76000 3.14457894737\n",
      "81000 3.1455308642\n",
      "86000 3.13186046512\n",
      "91000 3.1450989011\n",
      "96000 3.14341666667\n",
      "101000 3.14499009901\n",
      "106000 3.13973584906\n",
      "111000 3.15412612613\n",
      "116000 3.14475862069\n",
      "121000 3.14300826446\n",
      "126000 3.14041269841\n",
      "131000 3.14503816794\n",
      "136000 3.14347058824\n",
      "141000 3.14371631206\n",
      "146000 3.14750684932\n",
      "151000 3.13931125828\n",
      "156000 3.13920512821\n",
      "161000 3.1409689441\n",
      "166000 3.13918072289\n",
      "171000 3.13190643275\n",
      "176000 3.13415909091\n",
      "181000 3.14744751381\n",
      "186000 3.14062365591\n",
      "191000 3.13916230366\n",
      "196000 3.14263265306\n"
     ]
    }
   ],
   "source": [
    "for i in range(1000,200000,5000):\n",
    "    print i, get_pi(i)"
   ]
  },
  {
   "cell_type": "code",
   "execution_count": null,
   "metadata": {
    "collapsed": true
   },
   "outputs": [],
   "source": []
  },
  {
   "cell_type": "code",
   "execution_count": null,
   "metadata": {
    "collapsed": true
   },
   "outputs": [],
   "source": []
  }
 ],
 "metadata": {
  "kernelspec": {
   "display_name": "Python 2",
   "language": "python",
   "name": "python2"
  },
  "language_info": {
   "codemirror_mode": {
    "name": "ipython",
    "version": 2
   },
   "file_extension": ".py",
   "mimetype": "text/x-python",
   "name": "python",
   "nbconvert_exporter": "python",
   "pygments_lexer": "ipython2",
   "version": "2.7.10"
  }
 },
 "nbformat": 4,
 "nbformat_minor": 0
}
